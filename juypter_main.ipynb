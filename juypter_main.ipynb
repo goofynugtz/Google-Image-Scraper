{
 "cells": [
  {
   "cell_type": "markdown",
   "metadata": {},
   "source": [
    "<h3>Google Image Scraper for Juypter Notebook</h3>"
   ]
  },
  {
   "cell_type": "code",
   "execution_count": 11,
   "metadata": {},
   "outputs": [
    {
     "name": "stdout",
     "output_type": "stream",
     "text": [
      "[INFO] Gathering image links\n",
      "[INFO] 8-pm-premium-black-whisky \t #0 \t https://www.radicokhaitan.com/wp-content/uploads/2019/03/8PM-Whisky-premium.jpg\n",
      "[INFO] 8-pm-premium-black-whisky \t #1 \t https://www.monde-selection.com/wp-content/uploads/2022/05/1036559.png\n",
      "[INFO] 8-pm-premium-black-whisky \t #2 \t https://mcprod.spencers.in/media/catalog/product/1/3/1331988_1.jpg\n",
      "[INFO] Google search ended\n",
      "['https://www.radicokhaitan.com/wp-content/uploads/2019/03/8PM-Whisky-premium.jpg', 'https://www.monde-selection.com/wp-content/uploads/2022/05/1036559.png', 'https://mcprod.spencers.in/media/catalog/product/1/3/1331988_1.jpg']\n"
     ]
    }
   ],
   "source": [
    "import os\n",
    "from GoogleImageScraper import GoogleImageScraper\n",
    "from patch import webdriver_executable\n",
    "\n",
    "webdriver_path = os.path.normpath(os.path.join(os.getcwd(), 'webdriver', webdriver_executable()))\n",
    "image_path = os.path.normpath(os.path.join(os.getcwd(), 'photos'))\n",
    "search_keys= [\"8-pm-premium-black-whisky\"]\n",
    "number_of_images = 3\n",
    "headless = True\n",
    "min_resolution=(512,512)\n",
    "max_resolution=(1920,1080)\n",
    "for search_key in search_keys:\n",
    "    image_scraper = GoogleImageScraper(webdriver_path,image_path,search_key,number_of_images,headless,min_resolution,max_resolution)\n",
    "    image_urls = image_scraper.find_image_urls()\n",
    "    print(image_urls)\n"
   ]
  }
 ],
 "metadata": {
  "kernelspec": {
   "display_name": "Python 3 (ipykernel)",
   "language": "python",
   "name": "python3"
  },
  "language_info": {
   "codemirror_mode": {
    "name": "ipython",
    "version": 3
   },
   "file_extension": ".py",
   "mimetype": "text/x-python",
   "name": "python",
   "nbconvert_exporter": "python",
   "pygments_lexer": "ipython3",
   "version": "3.10.0"
  }
 },
 "nbformat": 4,
 "nbformat_minor": 4
}
